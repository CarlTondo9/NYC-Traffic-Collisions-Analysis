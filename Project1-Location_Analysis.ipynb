{
 "cells": [
  {
   "cell_type": "code",
   "execution_count": 1,
   "metadata": {},
   "outputs": [],
   "source": [
    "# python version 2.9.6\n",
    "# dependencies\n",
    "import pandas as pd\n",
    "import matplotlib.pyplot as plt\n",
    "import gmaps\n",
    "import numpy as np\n",
    "from config import api_key"
   ]
  },
  {
   "cell_type": "code",
   "execution_count": 2,
   "metadata": {},
   "outputs": [
    {
     "name": "stderr",
     "output_type": "stream",
     "text": [
      "/Users/abeljrenteria/miniconda3/envs/PythonData/lib/python3.6/site-packages/IPython/core/interactiveshell.py:3058: DtypeWarning: Columns (3) have mixed types. Specify dtype option on import or set low_memory=False.\n",
      "  interactivity=interactivity, compiler=compiler, result=result)\n"
     ]
    }
   ],
   "source": [
    "# File to load\n",
    "file_to_load = \"NYPD_Motor_Vehicle_Collisions_-_Crashes.csv\"\n",
    "\n",
    "# Read csv file and store into Pandas data frame\n",
    "data_raw = pd.read_csv(file_to_load)"
   ]
  },
  {
   "cell_type": "code",
   "execution_count": 3,
   "metadata": {},
   "outputs": [],
   "source": [
    "# Function that cleans the data\n",
    "def clean_data(df, year):\n",
    "    # Convert string date to Pandas DateTime type\n",
    "    df['DATE'] = pd.to_datetime(df['DATE'])\n",
    "    \n",
    "    # Keep only data from specified year\n",
    "    df = df[(df['DATE'].dt.year == year)]\n",
    "    \n",
    "    # Sort data based on date\n",
    "    df = df.sort_values(by='DATE', ascending=False)\n",
    "\n",
    "    # Get rid of Null Rows in columns\n",
    "    df = df.dropna(axis=0, subset=['ZIP CODE'])\n",
    "    df = df.dropna(axis=0, subset=['LATITUDE'])\n",
    "    df = df.dropna(axis=0, subset=['LONGITUDE'])\n",
    "    df = df.dropna(axis=0, subset=['BOROUGH'])\n",
    "    \n",
    "    # Combine columns\n",
    "    df['TOTAL PERSONS INJURED/KILLED'] = df[\"NUMBER OF PERSONS INJURED\"] + df[\"NUMBER OF PERSONS KILLED\"]\n",
    "    df['TOTAL PEDESTRIANS INJURED/KILLED'] = df[\"NUMBER OF PEDESTRIANS INJURED\"] + df[\"NUMBER OF PEDESTRIANS KILLED\"]\n",
    "    df['TOTAL CYCLIST INJURED/KILLED'] = df[\"NUMBER OF CYCLIST INJURED\"] + df[\"NUMBER OF CYCLIST KILLED\"]\n",
    "    df['TOTAL MOTORIST INJURED/KILLED'] = df[\"NUMBER OF MOTORIST INJURED\"] + df[\"NUMBER OF MOTORIST KILLED\"]\n",
    "     \n",
    "    return df"
   ]
  },
  {
   "cell_type": "code",
   "execution_count": 4,
   "metadata": {},
   "outputs": [],
   "source": [
    "data = clean_data(data_raw, 2018)"
   ]
  },
  {
   "cell_type": "code",
   "execution_count": 28,
   "metadata": {},
   "outputs": [
    {
     "data": {
      "text/html": [
       "<div>\n",
       "<style scoped>\n",
       "    .dataframe tbody tr th:only-of-type {\n",
       "        vertical-align: middle;\n",
       "    }\n",
       "\n",
       "    .dataframe tbody tr th {\n",
       "        vertical-align: top;\n",
       "    }\n",
       "\n",
       "    .dataframe thead th {\n",
       "        text-align: right;\n",
       "    }\n",
       "</style>\n",
       "<table border=\"1\" class=\"dataframe\">\n",
       "  <thead>\n",
       "    <tr style=\"text-align: right;\">\n",
       "      <th></th>\n",
       "      <th>DATE</th>\n",
       "      <th>TIME</th>\n",
       "      <th>BOROUGH</th>\n",
       "      <th>ZIP CODE</th>\n",
       "      <th>LATITUDE</th>\n",
       "      <th>LONGITUDE</th>\n",
       "      <th>LOCATION</th>\n",
       "      <th>ON STREET NAME</th>\n",
       "      <th>CROSS STREET NAME</th>\n",
       "      <th>OFF STREET NAME</th>\n",
       "      <th>...</th>\n",
       "      <th>UNIQUE ID</th>\n",
       "      <th>VEHICLE TYPE CODE 1</th>\n",
       "      <th>VEHICLE TYPE CODE 2</th>\n",
       "      <th>VEHICLE TYPE CODE 3</th>\n",
       "      <th>VEHICLE TYPE CODE 4</th>\n",
       "      <th>VEHICLE TYPE CODE 5</th>\n",
       "      <th>TOTAL PERSONS INJURED/KILLED</th>\n",
       "      <th>TOTAL PEDESTRIANS INJURED/KILLED</th>\n",
       "      <th>TOTAL CYCLIST INJURED/KILLED</th>\n",
       "      <th>TOTAL MOTORIST INJURED/KILLED</th>\n",
       "    </tr>\n",
       "  </thead>\n",
       "  <tbody>\n",
       "    <tr>\n",
       "      <th>138319</th>\n",
       "      <td>2018-12-31</td>\n",
       "      <td>10:34</td>\n",
       "      <td>BROOKLYN</td>\n",
       "      <td>11209</td>\n",
       "      <td>40.623596</td>\n",
       "      <td>-74.02656</td>\n",
       "      <td>POINT (-74.02656 40.623596)</td>\n",
       "      <td>NaN</td>\n",
       "      <td>NaN</td>\n",
       "      <td>449       84 STREET</td>\n",
       "      <td>...</td>\n",
       "      <td>4055463</td>\n",
       "      <td>Sedan</td>\n",
       "      <td>Sedan</td>\n",
       "      <td>NaN</td>\n",
       "      <td>NaN</td>\n",
       "      <td>NaN</td>\n",
       "      <td>0.0</td>\n",
       "      <td>0</td>\n",
       "      <td>0</td>\n",
       "      <td>0</td>\n",
       "    </tr>\n",
       "    <tr>\n",
       "      <th>138311</th>\n",
       "      <td>2018-12-31</td>\n",
       "      <td>2:15</td>\n",
       "      <td>BROOKLYN</td>\n",
       "      <td>11213</td>\n",
       "      <td>40.669674</td>\n",
       "      <td>-73.94708</td>\n",
       "      <td>POINT (-73.94708 40.669674)</td>\n",
       "      <td>NaN</td>\n",
       "      <td>NaN</td>\n",
       "      <td>631       EASTERN PARKWAY</td>\n",
       "      <td>...</td>\n",
       "      <td>4055195</td>\n",
       "      <td>Sedan</td>\n",
       "      <td>Sedan</td>\n",
       "      <td>NaN</td>\n",
       "      <td>NaN</td>\n",
       "      <td>NaN</td>\n",
       "      <td>0.0</td>\n",
       "      <td>0</td>\n",
       "      <td>0</td>\n",
       "      <td>0</td>\n",
       "    </tr>\n",
       "    <tr>\n",
       "      <th>138314</th>\n",
       "      <td>2018-12-31</td>\n",
       "      <td>0:00</td>\n",
       "      <td>STATEN ISLAND</td>\n",
       "      <td>10305</td>\n",
       "      <td>40.593370</td>\n",
       "      <td>-74.08930</td>\n",
       "      <td>POINT (-74.0893 40.59337)</td>\n",
       "      <td>SOUTH RAILROAD AVENUE</td>\n",
       "      <td>COOPER AVENUE</td>\n",
       "      <td>NaN</td>\n",
       "      <td>...</td>\n",
       "      <td>4055512</td>\n",
       "      <td>Station Wagon/Sport Utility Vehicle</td>\n",
       "      <td>Sedan</td>\n",
       "      <td>NaN</td>\n",
       "      <td>NaN</td>\n",
       "      <td>NaN</td>\n",
       "      <td>0.0</td>\n",
       "      <td>0</td>\n",
       "      <td>0</td>\n",
       "      <td>0</td>\n",
       "    </tr>\n",
       "    <tr>\n",
       "      <th>138316</th>\n",
       "      <td>2018-12-31</td>\n",
       "      <td>14:00</td>\n",
       "      <td>BROOKLYN</td>\n",
       "      <td>11218</td>\n",
       "      <td>40.648468</td>\n",
       "      <td>-73.97837</td>\n",
       "      <td>POINT (-73.97837 40.648468)</td>\n",
       "      <td>EAST 3 STREET</td>\n",
       "      <td>FORT HAMILTON PARKWAY</td>\n",
       "      <td>NaN</td>\n",
       "      <td>...</td>\n",
       "      <td>4055346</td>\n",
       "      <td>Station Wagon/Sport Utility Vehicle</td>\n",
       "      <td>Station Wagon/Sport Utility Vehicle</td>\n",
       "      <td>NaN</td>\n",
       "      <td>NaN</td>\n",
       "      <td>NaN</td>\n",
       "      <td>0.0</td>\n",
       "      <td>0</td>\n",
       "      <td>0</td>\n",
       "      <td>0</td>\n",
       "    </tr>\n",
       "    <tr>\n",
       "      <th>138317</th>\n",
       "      <td>2018-12-31</td>\n",
       "      <td>19:00</td>\n",
       "      <td>QUEENS</td>\n",
       "      <td>11373</td>\n",
       "      <td>40.744550</td>\n",
       "      <td>-73.87378</td>\n",
       "      <td>POINT (-73.87378 40.74455)</td>\n",
       "      <td>FORLEY STREET</td>\n",
       "      <td>LAMONT AVENUE</td>\n",
       "      <td>NaN</td>\n",
       "      <td>...</td>\n",
       "      <td>4055534</td>\n",
       "      <td>Sedan</td>\n",
       "      <td>Sedan</td>\n",
       "      <td>NaN</td>\n",
       "      <td>NaN</td>\n",
       "      <td>NaN</td>\n",
       "      <td>0.0</td>\n",
       "      <td>0</td>\n",
       "      <td>0</td>\n",
       "      <td>0</td>\n",
       "    </tr>\n",
       "  </tbody>\n",
       "</table>\n",
       "<p>5 rows × 33 columns</p>\n",
       "</div>"
      ],
      "text/plain": [
       "             DATE   TIME        BOROUGH ZIP CODE   LATITUDE  LONGITUDE  \\\n",
       "138319 2018-12-31  10:34       BROOKLYN    11209  40.623596  -74.02656   \n",
       "138311 2018-12-31   2:15       BROOKLYN    11213  40.669674  -73.94708   \n",
       "138314 2018-12-31   0:00  STATEN ISLAND    10305  40.593370  -74.08930   \n",
       "138316 2018-12-31  14:00       BROOKLYN    11218  40.648468  -73.97837   \n",
       "138317 2018-12-31  19:00         QUEENS    11373  40.744550  -73.87378   \n",
       "\n",
       "                           LOCATION                    ON STREET NAME  \\\n",
       "138319  POINT (-74.02656 40.623596)                               NaN   \n",
       "138311  POINT (-73.94708 40.669674)                               NaN   \n",
       "138314    POINT (-74.0893 40.59337)  SOUTH RAILROAD AVENUE              \n",
       "138316  POINT (-73.97837 40.648468)  EAST 3 STREET                      \n",
       "138317   POINT (-73.87378 40.74455)  FORLEY STREET                      \n",
       "\n",
       "            CROSS STREET NAME                           OFF STREET NAME  ...  \\\n",
       "138319                    NaN  449       84 STREET                       ...   \n",
       "138311                    NaN  631       EASTERN PARKWAY                 ...   \n",
       "138314          COOPER AVENUE                                       NaN  ...   \n",
       "138316  FORT HAMILTON PARKWAY                                       NaN  ...   \n",
       "138317          LAMONT AVENUE                                       NaN  ...   \n",
       "\n",
       "        UNIQUE ID                  VEHICLE TYPE CODE 1  \\\n",
       "138319    4055463                                Sedan   \n",
       "138311    4055195                                Sedan   \n",
       "138314    4055512  Station Wagon/Sport Utility Vehicle   \n",
       "138316    4055346  Station Wagon/Sport Utility Vehicle   \n",
       "138317    4055534                                Sedan   \n",
       "\n",
       "                        VEHICLE TYPE CODE 2  VEHICLE TYPE CODE 3  \\\n",
       "138319                                Sedan                  NaN   \n",
       "138311                                Sedan                  NaN   \n",
       "138314                                Sedan                  NaN   \n",
       "138316  Station Wagon/Sport Utility Vehicle                  NaN   \n",
       "138317                                Sedan                  NaN   \n",
       "\n",
       "        VEHICLE TYPE CODE 4  VEHICLE TYPE CODE 5  \\\n",
       "138319                  NaN                  NaN   \n",
       "138311                  NaN                  NaN   \n",
       "138314                  NaN                  NaN   \n",
       "138316                  NaN                  NaN   \n",
       "138317                  NaN                  NaN   \n",
       "\n",
       "        TOTAL PERSONS INJURED/KILLED  TOTAL PEDESTRIANS INJURED/KILLED  \\\n",
       "138319                           0.0                                 0   \n",
       "138311                           0.0                                 0   \n",
       "138314                           0.0                                 0   \n",
       "138316                           0.0                                 0   \n",
       "138317                           0.0                                 0   \n",
       "\n",
       "       TOTAL CYCLIST INJURED/KILLED TOTAL MOTORIST INJURED/KILLED  \n",
       "138319                            0                             0  \n",
       "138311                            0                             0  \n",
       "138314                            0                             0  \n",
       "138316                            0                             0  \n",
       "138317                            0                             0  \n",
       "\n",
       "[5 rows x 33 columns]"
      ]
     },
     "execution_count": 28,
     "metadata": {},
     "output_type": "execute_result"
    }
   ],
   "source": [
    "data.head()"
   ]
  },
  {
   "cell_type": "markdown",
   "metadata": {},
   "source": [
    "# Accidents at a glance\n",
    "Create bar charts based on the following metrics\n",
    "* Borough"
   ]
  },
  {
   "cell_type": "code",
   "execution_count": 6,
   "metadata": {},
   "outputs": [
    {
     "name": "stdout",
     "output_type": "stream",
     "text": [
      "Total Accidents(2018): 144735\n"
     ]
    }
   ],
   "source": [
    "# Count total number of accidents - 2018\n",
    "total_accidents = len(data.index)\n",
    "\n",
    "print(f'Total Accidents(2018): {total_accidents}')"
   ]
  },
  {
   "cell_type": "code",
   "execution_count": 7,
   "metadata": {},
   "outputs": [
    {
     "data": {
      "text/html": [
       "<div>\n",
       "<style scoped>\n",
       "    .dataframe tbody tr th:only-of-type {\n",
       "        vertical-align: middle;\n",
       "    }\n",
       "\n",
       "    .dataframe tbody tr th {\n",
       "        vertical-align: top;\n",
       "    }\n",
       "\n",
       "    .dataframe thead th {\n",
       "        text-align: right;\n",
       "    }\n",
       "</style>\n",
       "<table border=\"1\" class=\"dataframe\">\n",
       "  <thead>\n",
       "    <tr style=\"text-align: right;\">\n",
       "      <th></th>\n",
       "      <th>Number of Persons Injured</th>\n",
       "      <th>Number of Persons Killed</th>\n",
       "      <th>Total Persons Injured/Killed</th>\n",
       "    </tr>\n",
       "  </thead>\n",
       "  <tbody>\n",
       "    <tr>\n",
       "      <th>0</th>\n",
       "      <td>36266</td>\n",
       "      <td>134</td>\n",
       "      <td>36394</td>\n",
       "    </tr>\n",
       "  </tbody>\n",
       "</table>\n",
       "</div>"
      ],
      "text/plain": [
       "   Number of Persons Injured  Number of Persons Killed  \\\n",
       "0                      36266                       134   \n",
       "\n",
       "   Total Persons Injured/Killed  \n",
       "0                         36394  "
      ]
     },
     "execution_count": 7,
     "metadata": {},
     "output_type": "execute_result"
    }
   ],
   "source": [
    "# Total number of Persons Injured/Killed\n",
    "total_inj_kill = data['TOTAL PERSONS INJURED/KILLED'].sum()\n",
    "total_inj = data['NUMBER OF PERSONS INJURED'].sum()\n",
    "total_kill = data['NUMBER OF PERSONS KILLED'].sum()\n",
    "\n",
    "# Create a data frame to hold all values\n",
    "total_inj_kill_analysis = {\"Number of Persons Injured\": int(total_inj), \"Number of Persons Killed\": int(total_kill),\n",
    "                          \"Total Persons Injured/Killed\": int(total_inj_kill)}\n",
    "total_inj_kill_analysis_df = pd.DataFrame([total_inj_kill_analysis])\n",
    "\n",
    "# display dataframe\n",
    "total_inj_kill_analysis_df"
   ]
  },
  {
   "cell_type": "code",
   "execution_count": 8,
   "metadata": {},
   "outputs": [
    {
     "data": {
      "text/html": [
       "<div>\n",
       "<style scoped>\n",
       "    .dataframe tbody tr th:only-of-type {\n",
       "        vertical-align: middle;\n",
       "    }\n",
       "\n",
       "    .dataframe tbody tr th {\n",
       "        vertical-align: top;\n",
       "    }\n",
       "\n",
       "    .dataframe thead th {\n",
       "        text-align: right;\n",
       "    }\n",
       "</style>\n",
       "<table border=\"1\" class=\"dataframe\">\n",
       "  <thead>\n",
       "    <tr style=\"text-align: right;\">\n",
       "      <th></th>\n",
       "      <th>Number of Pedestrians Injured</th>\n",
       "      <th>Number of Pedestrians Killed</th>\n",
       "      <th>Total Pedestrians Injured/Killed</th>\n",
       "    </tr>\n",
       "  </thead>\n",
       "  <tbody>\n",
       "    <tr>\n",
       "      <th>0</th>\n",
       "      <td>8051</td>\n",
       "      <td>75</td>\n",
       "      <td>8126</td>\n",
       "    </tr>\n",
       "  </tbody>\n",
       "</table>\n",
       "</div>"
      ],
      "text/plain": [
       "   Number of Pedestrians Injured  Number of Pedestrians Killed  \\\n",
       "0                           8051                            75   \n",
       "\n",
       "   Total Pedestrians Injured/Killed  \n",
       "0                              8126  "
      ]
     },
     "execution_count": 8,
     "metadata": {},
     "output_type": "execute_result"
    }
   ],
   "source": [
    "# Total number of pedestrians Injured/Killed\n",
    "total_ped_inj_kill = data['TOTAL PEDESTRIANS INJURED/KILLED'].sum()\n",
    "total_ped_inj = data['NUMBER OF PEDESTRIANS INJURED'].sum()\n",
    "total_ped_kill = data['NUMBER OF PEDESTRIANS KILLED'].sum()\n",
    "\n",
    "\n",
    "# Create a data frame to hold all values\n",
    "total_ped_inj_kill_analysis = {\"Number of Pedestrians Injured\": int(total_ped_inj), \"Number of Pedestrians Killed\": int(total_ped_kill),\n",
    "                          \"Total Pedestrians Injured/Killed\": int(total_ped_inj_kill)}\n",
    "total_ped_inj_kill_analysis_df = pd.DataFrame([total_ped_inj_kill_analysis])\n",
    "\n",
    "# display dataframe\n",
    "total_ped_inj_kill_analysis_df"
   ]
  },
  {
   "cell_type": "code",
   "execution_count": 9,
   "metadata": {},
   "outputs": [
    {
     "data": {
      "text/html": [
       "<div>\n",
       "<style scoped>\n",
       "    .dataframe tbody tr th:only-of-type {\n",
       "        vertical-align: middle;\n",
       "    }\n",
       "\n",
       "    .dataframe tbody tr th {\n",
       "        vertical-align: top;\n",
       "    }\n",
       "\n",
       "    .dataframe thead th {\n",
       "        text-align: right;\n",
       "    }\n",
       "</style>\n",
       "<table border=\"1\" class=\"dataframe\">\n",
       "  <thead>\n",
       "    <tr style=\"text-align: right;\">\n",
       "      <th></th>\n",
       "      <th>Number of Cyclist Injured</th>\n",
       "      <th>Number of Cyclist Killed</th>\n",
       "      <th>Total Cyclist Injured/Killed</th>\n",
       "    </tr>\n",
       "  </thead>\n",
       "  <tbody>\n",
       "    <tr>\n",
       "      <th>0</th>\n",
       "      <td>3331</td>\n",
       "      <td>5</td>\n",
       "      <td>3336</td>\n",
       "    </tr>\n",
       "  </tbody>\n",
       "</table>\n",
       "</div>"
      ],
      "text/plain": [
       "   Number of Cyclist Injured  Number of Cyclist Killed  \\\n",
       "0                       3331                         5   \n",
       "\n",
       "   Total Cyclist Injured/Killed  \n",
       "0                          3336  "
      ]
     },
     "execution_count": 9,
     "metadata": {},
     "output_type": "execute_result"
    }
   ],
   "source": [
    "# Total number of cyclists Injured/Killed\n",
    "total_cycl_inj_kill = data['TOTAL CYCLIST INJURED/KILLED'].sum()\n",
    "total_cycl_inj = data['NUMBER OF CYCLIST INJURED'].sum()\n",
    "total_cycl_kill = data['NUMBER OF CYCLIST KILLED'].sum()\n",
    "\n",
    "# Create a data frame to hold all values\n",
    "total_cycl_inj_kill_analysis = {\"Number of Cyclist Injured\": int(total_cycl_inj), \"Number of Cyclist Killed\": int(total_cycl_kill),\n",
    "                          \"Total Cyclist Injured/Killed\": int(total_cycl_inj_kill)}\n",
    "total_cycl_inj_kill_analysis_df = pd.DataFrame([total_cycl_inj_kill_analysis])\n",
    "\n",
    "# display dataframe\n",
    "total_cycl_inj_kill_analysis_df"
   ]
  },
  {
   "cell_type": "code",
   "execution_count": 10,
   "metadata": {},
   "outputs": [
    {
     "data": {
      "text/html": [
       "<div>\n",
       "<style scoped>\n",
       "    .dataframe tbody tr th:only-of-type {\n",
       "        vertical-align: middle;\n",
       "    }\n",
       "\n",
       "    .dataframe tbody tr th {\n",
       "        vertical-align: top;\n",
       "    }\n",
       "\n",
       "    .dataframe thead th {\n",
       "        text-align: right;\n",
       "    }\n",
       "</style>\n",
       "<table border=\"1\" class=\"dataframe\">\n",
       "  <thead>\n",
       "    <tr style=\"text-align: right;\">\n",
       "      <th></th>\n",
       "      <th>Number of Motorist Injured</th>\n",
       "      <th>Number of Motorist Killed</th>\n",
       "      <th>Total Motorist Injured/Killed</th>\n",
       "    </tr>\n",
       "  </thead>\n",
       "  <tbody>\n",
       "    <tr>\n",
       "      <th>0</th>\n",
       "      <td>24874</td>\n",
       "      <td>53</td>\n",
       "      <td>24927</td>\n",
       "    </tr>\n",
       "  </tbody>\n",
       "</table>\n",
       "</div>"
      ],
      "text/plain": [
       "   Number of Motorist Injured  Number of Motorist Killed  \\\n",
       "0                       24874                         53   \n",
       "\n",
       "   Total Motorist Injured/Killed  \n",
       "0                          24927  "
      ]
     },
     "execution_count": 10,
     "metadata": {},
     "output_type": "execute_result"
    }
   ],
   "source": [
    "# Total number of motorists Injured/Killed\n",
    "total_motor_inj_kill = data['TOTAL MOTORIST INJURED/KILLED'].sum()\n",
    "total_motor_inj = data['NUMBER OF MOTORIST INJURED'].sum()\n",
    "total_motor_kill = data['NUMBER OF MOTORIST KILLED'].sum()\n",
    "\n",
    "# Create a data frame to hold all values\n",
    "total_motor_inj_kill_analysis = {\"Number of Motorist Injured\": int(total_motor_inj), \"Number of Motorist Killed\": int(total_motor_kill),\n",
    "                          \"Total Motorist Injured/Killed\": int(total_motor_inj_kill)}\n",
    "total_motor_inj_kill_analysis_df = pd.DataFrame([total_motor_inj_kill_analysis])\n",
    "\n",
    "# display dataframe\n",
    "total_motor_inj_kill_analysis_df"
   ]
  },
  {
   "cell_type": "code",
   "execution_count": 26,
   "metadata": {},
   "outputs": [
    {
     "data": {
      "image/png": "[encoded data removed]",
      "text/plain": [
       "<Figure size 432x288 with 1 Axes>"
      ]
     },
     "metadata": {
      "needs_background": "light"
     },
     "output_type": "display_data"
    },
    {
     "data": {
      "text/plain": [
       "<Figure size 432x288 with 0 Axes>"
      ]
     },
     "metadata": {},
     "output_type": "display_data"
    }
   ],
   "source": [
    "# GRAPH FOR INJURED/KILLED ANALYSIS\n",
    "# Dataset\n",
    "types = ['PEDESTRIANS', 'CYCLIST', 'MOTORIST']\n",
    "types_accidents = [total_ped_inj_kill, total_cycl_inj_kill, total_motor_inj_kill]\n",
    "y_pos = np.arange(len(types_accidents))\n",
    "\n",
    "# Create horizontal bars\n",
    "plt.barh(y_pos, types_accidents)\n",
    "\n",
    "# Create names on y-axis\n",
    "plt.yticks(y_pos, types)\n",
    "plt.title('Injured/Killed Due To Auto Collisions (2018)')\n",
    "\n",
    "# Display Plot\n",
    "plt.show()\n",
    "\n",
    "# Output Plot\n",
    "plt.savefig('PLOT_INJ_KILL_2018.png')"
   ]
  },
  {
   "cell_type": "code",
   "execution_count": 12,
   "metadata": {},
   "outputs": [
    {
     "data": {
      "image/png": "[encoded data removed]",
      "text/plain": [
       "<Figure size 432x288 with 1 Axes>"
      ]
     },
     "metadata": {
      "needs_background": "light"
     },
     "output_type": "display_data"
    }
   ],
   "source": [
    "# GRAPH FOR KILLED ANALYSIS\n",
    "# Dataset\n",
    "types = ['PEDESTRIANS', 'CYCLIST', 'MOTORIST']\n",
    "types_accidents = [total_ped_kill, total_cycl_kill, total_motor_kill]\n",
    "y_pos = np.arange(len(types_accidents))\n",
    "\n",
    "# Create horizontal bars\n",
    "plt.barh(y_pos, types_accidents)\n",
    "\n",
    "# Create names on y-axis\n",
    "plt.yticks(y_pos, types)\n",
    "plt.title('Killed Due To Auto Collisions (2018)')\n",
    "plt.show()"
   ]
  },
  {
   "cell_type": "code",
   "execution_count": 13,
   "metadata": {},
   "outputs": [
    {
     "data": {
      "image/png": "[encoded data removed]",
      "text/plain": [
       "<Figure size 432x288 with 1 Axes>"
      ]
     },
     "metadata": {
      "needs_background": "light"
     },
     "output_type": "display_data"
    }
   ],
   "source": [
    "# GRAPH FOR INJURED ANALYSIS\n",
    "# Dataset\n",
    "types = ['PEDESTRIANS', 'CYCLIST', 'MOTORIST']\n",
    "types_accidents = [total_ped_inj, total_cycl_inj, total_motor_inj]\n",
    "y_pos = np.arange(len(types_accidents))\n",
    "\n",
    "# Create horizontal bars\n",
    "plt.barh(y_pos, types_accidents)\n",
    "\n",
    "# Create names on y-axis\n",
    "plt.yticks(y_pos, types)\n",
    "plt.title('Injured Due To Auto Collisions (2018)')\n",
    "plt.show()"
   ]
  },
  {
   "cell_type": "markdown",
   "metadata": {},
   "source": [
    "# Most Popular Accident Locations"
   ]
  },
  {
   "cell_type": "code",
   "execution_count": 14,
   "metadata": {},
   "outputs": [
    {
     "data": {
      "text/html": [
       "<div>\n",
       "<style scoped>\n",
       "    .dataframe tbody tr th:only-of-type {\n",
       "        vertical-align: middle;\n",
       "    }\n",
       "\n",
       "    .dataframe tbody tr th {\n",
       "        vertical-align: top;\n",
       "    }\n",
       "\n",
       "    .dataframe thead th {\n",
       "        text-align: right;\n",
       "    }\n",
       "</style>\n",
       "<table border=\"1\" class=\"dataframe\">\n",
       "  <thead>\n",
       "    <tr style=\"text-align: right;\">\n",
       "      <th></th>\n",
       "      <th>ON STREET NAME</th>\n",
       "      <th>CROSS STREET NAME</th>\n",
       "      <th>count</th>\n",
       "    </tr>\n",
       "  </thead>\n",
       "  <tbody>\n",
       "    <tr>\n",
       "      <th>1</th>\n",
       "      <td>WEST 41 STREET</td>\n",
       "      <td>10 AVENUE</td>\n",
       "      <td>76</td>\n",
       "    </tr>\n",
       "    <tr>\n",
       "      <th>2</th>\n",
       "      <td>WEST FORDHAM ROAD</td>\n",
       "      <td>MAJOR DEEGAN EXPRESSWAY</td>\n",
       "      <td>68</td>\n",
       "    </tr>\n",
       "    <tr>\n",
       "      <th>3</th>\n",
       "      <td>EAST HOUSTON STREET</td>\n",
       "      <td>BOWERY</td>\n",
       "      <td>61</td>\n",
       "    </tr>\n",
       "    <tr>\n",
       "      <th>4</th>\n",
       "      <td>NORTH CONDUIT AVENUE</td>\n",
       "      <td>COHANCY STREET</td>\n",
       "      <td>61</td>\n",
       "    </tr>\n",
       "    <tr>\n",
       "      <th>5</th>\n",
       "      <td>EAST GUN HILL ROAD</td>\n",
       "      <td>BRONX RIVER PARKWAY</td>\n",
       "      <td>60</td>\n",
       "    </tr>\n",
       "    <tr>\n",
       "      <th>6</th>\n",
       "      <td>2 AVENUE</td>\n",
       "      <td>EAST 59 STREET</td>\n",
       "      <td>57</td>\n",
       "    </tr>\n",
       "    <tr>\n",
       "      <th>7</th>\n",
       "      <td>EAST 37 STREET</td>\n",
       "      <td>3 AVENUE</td>\n",
       "      <td>57</td>\n",
       "    </tr>\n",
       "    <tr>\n",
       "      <th>8</th>\n",
       "      <td>WEST 40 STREET</td>\n",
       "      <td>11 AVENUE</td>\n",
       "      <td>55</td>\n",
       "    </tr>\n",
       "    <tr>\n",
       "      <th>9</th>\n",
       "      <td>TILLARY STREET</td>\n",
       "      <td>FLATBUSH AVENUE EXTENSION</td>\n",
       "      <td>53</td>\n",
       "    </tr>\n",
       "    <tr>\n",
       "      <th>10</th>\n",
       "      <td>82 STREET</td>\n",
       "      <td>23 AVENUE</td>\n",
       "      <td>52</td>\n",
       "    </tr>\n",
       "  </tbody>\n",
       "</table>\n",
       "</div>"
      ],
      "text/plain": [
       "                      ON STREET NAME          CROSS STREET NAME  count\n",
       "1   WEST 41 STREET                                    10 AVENUE     76\n",
       "2   WEST FORDHAM ROAD                   MAJOR DEEGAN EXPRESSWAY     68\n",
       "3   EAST HOUSTON STREET                                  BOWERY     61\n",
       "4   NORTH CONDUIT AVENUE                         COHANCY STREET     61\n",
       "5   EAST GUN HILL ROAD                      BRONX RIVER PARKWAY     60\n",
       "6   2 AVENUE                                     EAST 59 STREET     57\n",
       "7   EAST 37 STREET                                     3 AVENUE     57\n",
       "8   WEST 40 STREET                                    11 AVENUE     55\n",
       "9   TILLARY STREET                    FLATBUSH AVENUE EXTENSION     53\n",
       "10  82 STREET                                         23 AVENUE     52"
      ]
     },
     "execution_count": 14,
     "metadata": {},
     "output_type": "execute_result"
    }
   ],
   "source": [
    "# Top 10 locations in New York City with the most accidents\n",
    "groupby_df = (data.groupby(['ON STREET NAME','CROSS STREET NAME'])['CROSS STREET NAME']\n",
    "              .agg(['count']).sort_values(by='count', ascending=False).reset_index()\n",
    "              .drop_duplicates('CROSS STREET NAME', keep='first'))\n",
    "groupby_df.index += 1 \n",
    "groupby_df.head(10)\n"
   ]
  },
  {
   "cell_type": "markdown",
   "metadata": {},
   "source": [
    "# Heatmap"
   ]
  },
  {
   "cell_type": "code",
   "execution_count": 15,
   "metadata": {},
   "outputs": [],
   "source": [
    "# Configure gmaps\n",
    "gmaps.configure(api_key = api_key)\n",
    "\n",
    "# extract location data and weights from dataframe\n",
    "locations = data[['LATITUDE', 'LONGITUDE']]\n",
    "total_person_weight = data['TOTAL PERSONS INJURED/KILLED']"
   ]
  },
  {
   "cell_type": "code",
   "execution_count": 16,
   "metadata": {},
   "outputs": [],
   "source": [
    "# gmaps - heatmap\n",
    "def drawHeatMap(location, val, zoom, intensity, radius):\n",
    "    heatmap_layer = gmaps.heatmap_layer(locations, val + 3, dissipating = True)\n",
    "    heatmap_layer.max_intensity = intensity\n",
    "    heatmap_layer.point_radius = radius\n",
    "    fig = gmaps.figure()\n",
    "    fig = gmaps.figure(center = (40.7128, -74.0060), zoom_level=zoom)\n",
    "    fig.add_layer(heatmap_layer)\n",
    "    return fig\n",
    "\n",
    "zoom = 10\n",
    "intensity = 100\n",
    "radius = 10"
   ]
  },
  {
   "cell_type": "code",
   "execution_count": 17,
   "metadata": {
    "scrolled": true
   },
   "outputs": [
    {
     "data": {
      "application/vnd.jupyter.widget-view+json": {
       "model_id": "4dbda9a860e5400da2489be2ba4167f1",
       "version_major": 2,
       "version_minor": 0
      },
      "text/plain": [
       "Figure(layout=FigureLayout(height='420px'))"
      ]
     },
     "metadata": {},
     "output_type": "display_data"
    }
   ],
   "source": [
    "nyc_heatmap = drawHeatMap(locations, total_person_weight, zoom, intensity, radius)\n",
    "nyc_heatmap"
   ]
  },
  {
   "cell_type": "markdown",
   "metadata": {},
   "source": [
    "# Analysis by Pedestrians, Cyclists, and Motorist"
   ]
  },
  {
   "cell_type": "markdown",
   "metadata": {},
   "source": [
    "### Pedestrians "
   ]
  },
  {
   "cell_type": "code",
   "execution_count": 18,
   "metadata": {},
   "outputs": [
    {
     "data": {
      "text/html": [
       "<div>\n",
       "<style scoped>\n",
       "    .dataframe tbody tr th:only-of-type {\n",
       "        vertical-align: middle;\n",
       "    }\n",
       "\n",
       "    .dataframe tbody tr th {\n",
       "        vertical-align: top;\n",
       "    }\n",
       "\n",
       "    .dataframe thead th {\n",
       "        text-align: right;\n",
       "    }\n",
       "</style>\n",
       "<table border=\"1\" class=\"dataframe\">\n",
       "  <thead>\n",
       "    <tr style=\"text-align: right;\">\n",
       "      <th></th>\n",
       "      <th>ON STREET NAME</th>\n",
       "      <th>CROSS STREET NAME</th>\n",
       "      <th>count</th>\n",
       "    </tr>\n",
       "  </thead>\n",
       "  <tbody>\n",
       "    <tr>\n",
       "      <th>1</th>\n",
       "      <td>ATLANTIC AVENUE</td>\n",
       "      <td>LOGAN STREET</td>\n",
       "      <td>7</td>\n",
       "    </tr>\n",
       "    <tr>\n",
       "      <th>2</th>\n",
       "      <td>BROADWAY</td>\n",
       "      <td>CHAMBERS STREET</td>\n",
       "      <td>6</td>\n",
       "    </tr>\n",
       "    <tr>\n",
       "      <th>3</th>\n",
       "      <td>EAST 125 STREET</td>\n",
       "      <td>LEXINGTON AVENUE</td>\n",
       "      <td>6</td>\n",
       "    </tr>\n",
       "    <tr>\n",
       "      <th>4</th>\n",
       "      <td>FLATBUSH AVENUE</td>\n",
       "      <td>AVENUE H</td>\n",
       "      <td>5</td>\n",
       "    </tr>\n",
       "    <tr>\n",
       "      <th>5</th>\n",
       "      <td>108 STREET</td>\n",
       "      <td>63 DRIVE</td>\n",
       "      <td>5</td>\n",
       "    </tr>\n",
       "    <tr>\n",
       "      <th>6</th>\n",
       "      <td>WESTCHESTER AVENUE</td>\n",
       "      <td>JACKSON AVENUE</td>\n",
       "      <td>5</td>\n",
       "    </tr>\n",
       "    <tr>\n",
       "      <th>7</th>\n",
       "      <td>FLATBUSH AVENUE</td>\n",
       "      <td>AVENUE U</td>\n",
       "      <td>5</td>\n",
       "    </tr>\n",
       "    <tr>\n",
       "      <th>8</th>\n",
       "      <td>EAST 149 STREET</td>\n",
       "      <td>BERGEN AVENUE</td>\n",
       "      <td>4</td>\n",
       "    </tr>\n",
       "    <tr>\n",
       "      <th>9</th>\n",
       "      <td>3 AVENUE</td>\n",
       "      <td>EAST 42 STREET</td>\n",
       "      <td>4</td>\n",
       "    </tr>\n",
       "    <tr>\n",
       "      <th>10</th>\n",
       "      <td>NORTHERN BOULEVARD</td>\n",
       "      <td>UNION STREET</td>\n",
       "      <td>4</td>\n",
       "    </tr>\n",
       "  </tbody>\n",
       "</table>\n",
       "</div>"
      ],
      "text/plain": [
       "                      ON STREET NAME CROSS STREET NAME  count\n",
       "1   ATLANTIC AVENUE                       LOGAN STREET      7\n",
       "2   BROADWAY                           CHAMBERS STREET      6\n",
       "3   EAST 125 STREET                   LEXINGTON AVENUE      6\n",
       "4   FLATBUSH AVENUE                           AVENUE H      5\n",
       "5   108 STREET                                63 DRIVE      5\n",
       "6   WESTCHESTER AVENUE                  JACKSON AVENUE      5\n",
       "7   FLATBUSH AVENUE                           AVENUE U      5\n",
       "8   EAST 149 STREET                      BERGEN AVENUE      4\n",
       "9   3 AVENUE                            EAST 42 STREET      4\n",
       "10  NORTHERN BOULEVARD                    UNION STREET      4"
      ]
     },
     "execution_count": 18,
     "metadata": {},
     "output_type": "execute_result"
    }
   ],
   "source": [
    "# Pedestrians\n",
    "data_pedestrians = data[data['TOTAL PEDESTRIANS INJURED/KILLED'] != 0]\n",
    "\n",
    "# Most dangerous locations in New York City where pedestrians were injured/killed\n",
    "group_ped = (data_pedestrians.groupby(['ON STREET NAME','CROSS STREET NAME'])['CROSS STREET NAME'].agg(['count']).sort_values(by='count', ascending=False).reset_index().drop_duplicates('CROSS STREET NAME', keep='first'))\n",
    "group_ped.index += 1 \n",
    "group_ped.head(10)"
   ]
  },
  {
   "cell_type": "code",
   "execution_count": 19,
   "metadata": {},
   "outputs": [
    {
     "data": {
      "application/vnd.jupyter.widget-view+json": {
       "model_id": "a0f40d9240714e14af322d2c991e37b6",
       "version_major": 2,
       "version_minor": 0
      },
      "text/plain": [
       "Figure(layout=FigureLayout(height='420px'))"
      ]
     },
     "metadata": {},
     "output_type": "display_data"
    }
   ],
   "source": [
    "# Heatmap for pedestrians locations injured/killed\n",
    "zoom = 10\n",
    "intensity = 20\n",
    "radius = 20\n",
    "locations = data_pedestrians[['LATITUDE', 'LONGITUDE']]\n",
    "total_pedestrians_weight = data_pedestrians['TOTAL PEDESTRIANS INJURED/KILLED']\n",
    "pedestrians_heatmap = drawHeatMap(locations, total_pedestrians_weight, zoom, intensity, radius)\n",
    "pedestrians_heatmap"
   ]
  },
  {
   "cell_type": "markdown",
   "metadata": {},
   "source": [
    "### Cyclist "
   ]
  },
  {
   "cell_type": "code",
   "execution_count": 20,
   "metadata": {},
   "outputs": [
    {
     "data": {
      "text/html": [
       "<div>\n",
       "<style scoped>\n",
       "    .dataframe tbody tr th:only-of-type {\n",
       "        vertical-align: middle;\n",
       "    }\n",
       "\n",
       "    .dataframe tbody tr th {\n",
       "        vertical-align: top;\n",
       "    }\n",
       "\n",
       "    .dataframe thead th {\n",
       "        text-align: right;\n",
       "    }\n",
       "</style>\n",
       "<table border=\"1\" class=\"dataframe\">\n",
       "  <thead>\n",
       "    <tr style=\"text-align: right;\">\n",
       "      <th></th>\n",
       "      <th>ON STREET NAME</th>\n",
       "      <th>CROSS STREET NAME</th>\n",
       "      <th>count</th>\n",
       "    </tr>\n",
       "  </thead>\n",
       "  <tbody>\n",
       "    <tr>\n",
       "      <th>1</th>\n",
       "      <td>CHRYSTIE STREET</td>\n",
       "      <td>GRAND STREET</td>\n",
       "      <td>4</td>\n",
       "    </tr>\n",
       "    <tr>\n",
       "      <th>2</th>\n",
       "      <td>1 AVENUE</td>\n",
       "      <td>EAST 77 STREET</td>\n",
       "      <td>3</td>\n",
       "    </tr>\n",
       "    <tr>\n",
       "      <th>3</th>\n",
       "      <td>9 AVENUE</td>\n",
       "      <td>WEST 42 STREET</td>\n",
       "      <td>3</td>\n",
       "    </tr>\n",
       "    <tr>\n",
       "      <th>4</th>\n",
       "      <td>EAST 34 STREET</td>\n",
       "      <td>CHURCH AVENUE</td>\n",
       "      <td>3</td>\n",
       "    </tr>\n",
       "    <tr>\n",
       "      <th>5</th>\n",
       "      <td>34 AVENUE</td>\n",
       "      <td>103 STREET</td>\n",
       "      <td>3</td>\n",
       "    </tr>\n",
       "    <tr>\n",
       "      <th>6</th>\n",
       "      <td>WEST 29 STREET</td>\n",
       "      <td>8 AVENUE</td>\n",
       "      <td>3</td>\n",
       "    </tr>\n",
       "    <tr>\n",
       "      <th>7</th>\n",
       "      <td>GRAND STREET</td>\n",
       "      <td>CHRYSTIE STREET</td>\n",
       "      <td>3</td>\n",
       "    </tr>\n",
       "    <tr>\n",
       "      <th>8</th>\n",
       "      <td>DE KALB AVENUE</td>\n",
       "      <td>SOUTH PORTLAND AVENUE</td>\n",
       "      <td>3</td>\n",
       "    </tr>\n",
       "    <tr>\n",
       "      <th>9</th>\n",
       "      <td>CHAMBERS STREET</td>\n",
       "      <td>CHURCH STREET</td>\n",
       "      <td>3</td>\n",
       "    </tr>\n",
       "    <tr>\n",
       "      <th>10</th>\n",
       "      <td>EAST 86 STREET</td>\n",
       "      <td>1 AVENUE</td>\n",
       "      <td>3</td>\n",
       "    </tr>\n",
       "  </tbody>\n",
       "</table>\n",
       "</div>"
      ],
      "text/plain": [
       "                      ON STREET NAME      CROSS STREET NAME  count\n",
       "1   CHRYSTIE STREET                            GRAND STREET      4\n",
       "2   1 AVENUE                                 EAST 77 STREET      3\n",
       "3   9 AVENUE                                 WEST 42 STREET      3\n",
       "4   EAST 34 STREET                            CHURCH AVENUE      3\n",
       "5   34 AVENUE                                    103 STREET      3\n",
       "6   WEST 29 STREET                                 8 AVENUE      3\n",
       "7   GRAND STREET                            CHRYSTIE STREET      3\n",
       "8   DE KALB AVENUE                    SOUTH PORTLAND AVENUE      3\n",
       "9   CHAMBERS STREET                           CHURCH STREET      3\n",
       "10  EAST 86 STREET                                 1 AVENUE      3"
      ]
     },
     "execution_count": 20,
     "metadata": {},
     "output_type": "execute_result"
    }
   ],
   "source": [
    "# Cyclist\n",
    "data_cyclist = data[data['TOTAL CYCLIST INJURED/KILLED'] != 0]\n",
    "\n",
    "# Most dangerous locations in New York City where cyclist were injured/killed\n",
    "group_cyclist = (data_cyclist.groupby(['ON STREET NAME','CROSS STREET NAME'])['CROSS STREET NAME'].agg(['count']).sort_values(by='count', ascending=False).reset_index().drop_duplicates('CROSS STREET NAME', keep='first'))\n",
    "group_cyclist.index += 1 \n",
    "group_cyclist.head(10)"
   ]
  },
  {
   "cell_type": "code",
   "execution_count": 21,
   "metadata": {},
   "outputs": [
    {
     "data": {
      "application/vnd.jupyter.widget-view+json": {
       "model_id": "f5ac18bbbe714e5799bd9aba6d4ab09f",
       "version_major": 2,
       "version_minor": 0
      },
      "text/plain": [
       "Figure(layout=FigureLayout(height='420px'))"
      ]
     },
     "metadata": {},
     "output_type": "display_data"
    }
   ],
   "source": [
    "# Heatmap for cyclist locations injured/killed\n",
    "zoom = 10\n",
    "intensity = 20\n",
    "radius = 20\n",
    "locations = data_cyclist[['LATITUDE', 'LONGITUDE']]\n",
    "total_cyclist_weight = data_cyclist['TOTAL CYCLIST INJURED/KILLED']\n",
    "cyclist_heatmap = drawHeatMap(locations, total_cyclist_weight, zoom, intensity, radius)\n",
    "cyclist_heatmap"
   ]
  },
  {
   "cell_type": "markdown",
   "metadata": {},
   "source": [
    "### Motorist"
   ]
  },
  {
   "cell_type": "code",
   "execution_count": 22,
   "metadata": {},
   "outputs": [
    {
     "data": {
      "text/html": [
       "<div>\n",
       "<style scoped>\n",
       "    .dataframe tbody tr th:only-of-type {\n",
       "        vertical-align: middle;\n",
       "    }\n",
       "\n",
       "    .dataframe tbody tr th {\n",
       "        vertical-align: top;\n",
       "    }\n",
       "\n",
       "    .dataframe thead th {\n",
       "        text-align: right;\n",
       "    }\n",
       "</style>\n",
       "<table border=\"1\" class=\"dataframe\">\n",
       "  <thead>\n",
       "    <tr style=\"text-align: right;\">\n",
       "      <th></th>\n",
       "      <th>ON STREET NAME</th>\n",
       "      <th>CROSS STREET NAME</th>\n",
       "      <th>count</th>\n",
       "    </tr>\n",
       "  </thead>\n",
       "  <tbody>\n",
       "    <tr>\n",
       "      <th>1</th>\n",
       "      <td>WEST FORDHAM ROAD</td>\n",
       "      <td>MAJOR DEEGAN EXPRESSWAY</td>\n",
       "      <td>19</td>\n",
       "    </tr>\n",
       "    <tr>\n",
       "      <th>2</th>\n",
       "      <td>ROCKAWAY BOULEVARD</td>\n",
       "      <td>FARMERS BOULEVARD</td>\n",
       "      <td>16</td>\n",
       "    </tr>\n",
       "    <tr>\n",
       "      <th>3</th>\n",
       "      <td>ROCKAWAY BOULEVARD</td>\n",
       "      <td>BREWER BOULEVARD</td>\n",
       "      <td>14</td>\n",
       "    </tr>\n",
       "    <tr>\n",
       "      <th>4</th>\n",
       "      <td>ATLANTIC AVENUE</td>\n",
       "      <td>LOGAN STREET</td>\n",
       "      <td>13</td>\n",
       "    </tr>\n",
       "    <tr>\n",
       "      <th>5</th>\n",
       "      <td>EASTERN PARKWAY</td>\n",
       "      <td>BUFFALO AVENUE</td>\n",
       "      <td>12</td>\n",
       "    </tr>\n",
       "    <tr>\n",
       "      <th>6</th>\n",
       "      <td>MAJOR DEEGAN EXPRESSWAY</td>\n",
       "      <td>WEST FORDHAM ROAD</td>\n",
       "      <td>10</td>\n",
       "    </tr>\n",
       "    <tr>\n",
       "      <th>7</th>\n",
       "      <td>NORTH CONDUIT AVENUE</td>\n",
       "      <td>LEFFERTS BOULEVARD</td>\n",
       "      <td>10</td>\n",
       "    </tr>\n",
       "    <tr>\n",
       "      <th>8</th>\n",
       "      <td>QUEENS BOULEVARD</td>\n",
       "      <td>SKILLMAN AVENUE</td>\n",
       "      <td>10</td>\n",
       "    </tr>\n",
       "    <tr>\n",
       "      <th>9</th>\n",
       "      <td>EAST GUN HILL ROAD</td>\n",
       "      <td>BRONX RIVER PARKWAY</td>\n",
       "      <td>10</td>\n",
       "    </tr>\n",
       "    <tr>\n",
       "      <th>10</th>\n",
       "      <td>PELHAM PARKWAY</td>\n",
       "      <td>SHORE ROAD</td>\n",
       "      <td>10</td>\n",
       "    </tr>\n",
       "  </tbody>\n",
       "</table>\n",
       "</div>"
      ],
      "text/plain": [
       "                      ON STREET NAME        CROSS STREET NAME  count\n",
       "1   WEST FORDHAM ROAD                 MAJOR DEEGAN EXPRESSWAY     19\n",
       "2   ROCKAWAY BOULEVARD                      FARMERS BOULEVARD     16\n",
       "3   ROCKAWAY BOULEVARD                       BREWER BOULEVARD     14\n",
       "4   ATLANTIC AVENUE                              LOGAN STREET     13\n",
       "5   EASTERN PARKWAY                            BUFFALO AVENUE     12\n",
       "6   MAJOR DEEGAN EXPRESSWAY                 WEST FORDHAM ROAD     10\n",
       "7   NORTH CONDUIT AVENUE                   LEFFERTS BOULEVARD     10\n",
       "8   QUEENS BOULEVARD                          SKILLMAN AVENUE     10\n",
       "9   EAST GUN HILL ROAD                    BRONX RIVER PARKWAY     10\n",
       "10  PELHAM PARKWAY                                 SHORE ROAD     10"
      ]
     },
     "execution_count": 22,
     "metadata": {},
     "output_type": "execute_result"
    }
   ],
   "source": [
    "# Motorist\n",
    "data_motorist = data[data['TOTAL MOTORIST INJURED/KILLED'] != 0]\n",
    "\n",
    "# Most dangerous locations in New York City where motorist were injured/killed\n",
    "group_motorist = (data_motorist.groupby(['ON STREET NAME','CROSS STREET NAME'])['CROSS STREET NAME'].agg(['count']).sort_values(by='count', ascending=False).reset_index().drop_duplicates('CROSS STREET NAME', keep='first'))\n",
    "group_motorist.index += 1 \n",
    "group_motorist.head(10)"
   ]
  },
  {
   "cell_type": "code",
   "execution_count": 23,
   "metadata": {},
   "outputs": [
    {
     "data": {
      "application/vnd.jupyter.widget-view+json": {
       "model_id": "05670165ce144b219e8f41accdb58a18",
       "version_major": 2,
       "version_minor": 0
      },
      "text/plain": [
       "Figure(layout=FigureLayout(height='420px'))"
      ]
     },
     "metadata": {},
     "output_type": "display_data"
    }
   ],
   "source": [
    "# Heatmap for motorist locations injured/killed\n",
    "zoom = 10\n",
    "intensity = 20\n",
    "radius = 20\n",
    "locations = data_motorist[['LATITUDE', 'LONGITUDE']]\n",
    "total_motorist_weight = data_motorist['TOTAL MOTORIST INJURED/KILLED']\n",
    "motorist_heatmap = drawHeatMap(locations, total_motorist_weight, zoom, intensity, radius)\n",
    "motorist_heatmap"
   ]
  }
 ],
 "metadata": {
  "kernelspec": {
   "display_name": "Python 3",
   "language": "python",
   "name": "python3"
  },
  "language_info": {
   "codemirror_mode": {
    "name": "ipython",
    "version": 3
   },
   "file_extension": ".py",
   "mimetype": "text/x-python",
   "name": "python",
   "nbconvert_exporter": "python",
   "pygments_lexer": "ipython3",
   "version": "3.6.9"
  }
 },
 "nbformat": 4,
 "nbformat_minor": 2
}
